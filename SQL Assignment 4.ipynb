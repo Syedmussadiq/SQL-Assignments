{
 "cells": [
  {
   "cell_type": "code",
   "execution_count": null,
   "id": "b6ef5b69",
   "metadata": {},
   "outputs": [],
   "source": [
    "Q-1. Write an SQL query to print the FIRST_NAME from Worker table after replacing ‘a’\n",
    "with ‘A’."
   ]
  },
  {
   "cell_type": "markdown",
   "id": "696a72fc",
   "metadata": {},
   "source": [
    "ANS: select replace( f_name, 'a','A') as replace_Name\n",
    "    from employee;"
   ]
  },
  {
   "cell_type": "code",
   "execution_count": null,
   "id": "19388526",
   "metadata": {},
   "outputs": [],
   "source": [
    "Q-2. Write an SQL query to print all Worker details from the Worker table order by\n",
    "    FIRST_NAME Ascending and DEPARTMENT Descending."
   ]
  },
  {
   "cell_type": "markdown",
   "id": "3aee0d7a",
   "metadata": {},
   "source": [
    "ANS: Select * from worker order by First_name asc,\n",
    "    Department desc;"
   ]
  },
  {
   "cell_type": "code",
   "execution_count": null,
   "id": "cef49288",
   "metadata": {},
   "outputs": [],
   "source": [
    "Q-3. Write an SQL query to fetch the names of workers who earn the highest salary."
   ]
  },
  {
   "cell_type": "markdown",
   "id": "519f8978",
   "metadata": {},
   "source": [
    "ANS: \n",
    "    select Name ,Salary\n",
    "    from worker\n",
    "    where salary = (select max(salary)from worker);"
   ]
  }
 ],
 "metadata": {
  "kernelspec": {
   "display_name": "Python 3 (ipykernel)",
   "language": "python",
   "name": "python3"
  },
  "language_info": {
   "codemirror_mode": {
    "name": "ipython",
    "version": 3
   },
   "file_extension": ".py",
   "mimetype": "text/x-python",
   "name": "python",
   "nbconvert_exporter": "python",
   "pygments_lexer": "ipython3",
   "version": "3.9.7"
  }
 },
 "nbformat": 4,
 "nbformat_minor": 5
}
