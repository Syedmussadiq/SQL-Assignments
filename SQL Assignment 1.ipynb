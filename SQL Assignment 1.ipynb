{
 "cells": [
  {
   "cell_type": "code",
   "execution_count": null,
   "id": "8d1bee18",
   "metadata": {},
   "outputs": [],
   "source": [
    "Q-1. Write an SQL query to fetch “FIRST_NAME” from Worker table using the alias\n",
    "name as <WORKER_NAME>"
   ]
  },
  {
   "cell_type": "markdown",
   "id": "82342e74",
   "metadata": {},
   "source": [
    "ANS: Select FIRST_NAME AS WORKER_NAME from Worker;"
   ]
  },
  {
   "cell_type": "code",
   "execution_count": null,
   "id": "2a3cb70b",
   "metadata": {},
   "outputs": [],
   "source": [
    "Q-2. Write an SQL query to fetch unique values of DEPARTMENT from Worker table."
   ]
  },
  {
   "cell_type": "markdown",
   "id": "382811b3",
   "metadata": {},
   "source": [
    "ANS: Select distinct DEPARTMENT from Worker;"
   ]
  },
  {
   "cell_type": "code",
   "execution_count": null,
   "id": "0147fca6",
   "metadata": {},
   "outputs": [],
   "source": [
    "Q-3. Write an SQL query to show the last 5 record from a table."
   ]
  },
  {
   "cell_type": "markdown",
   "id": "b0b9eb9c",
   "metadata": {},
   "source": [
    "ANS; (SELECT * FROM <table_name Order by <id column> desc limit <5>)\n",
    "Order by <id column> ASC;"
   ]
  }
 ],
 "metadata": {
  "kernelspec": {
   "display_name": "Python 3 (ipykernel)",
   "language": "python",
   "name": "python3"
  },
  "language_info": {
   "codemirror_mode": {
    "name": "ipython",
    "version": 3
   },
   "file_extension": ".py",
   "mimetype": "text/x-python",
   "name": "python",
   "nbconvert_exporter": "python",
   "pygments_lexer": "ipython3",
   "version": "3.9.7"
  }
 },
 "nbformat": 4,
 "nbformat_minor": 5
}
