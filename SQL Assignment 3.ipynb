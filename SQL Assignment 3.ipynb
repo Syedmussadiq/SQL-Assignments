{
 "cells": [
  {
   "cell_type": "code",
   "execution_count": null,
   "id": "5605bd0b",
   "metadata": {},
   "outputs": [],
   "source": [
    "Q-1. Write an SQL query to print the FIRST_NAME from Worker table after removing\n",
    "white spaces from the right side."
   ]
  },
  {
   "cell_type": "markdown",
   "id": "3ccb5d44",
   "metadata": {},
   "source": [
    "ANS:\n",
    "    Select RTRIM(F_NAME) from Worker;"
   ]
  },
  {
   "cell_type": "code",
   "execution_count": null,
   "id": "b3cc55bd",
   "metadata": {},
   "outputs": [],
   "source": [
    "Q-2. Write an SQL query that fetches the unique values of DEPARTMENT from Worker\n",
    "table and prints its length."
   ]
  },
  {
   "cell_type": "markdown",
   "id": "fe9b5777",
   "metadata": {},
   "source": [
    "ANS: select distinct length(department) from employee;"
   ]
  },
  {
   "cell_type": "code",
   "execution_count": null,
   "id": "aa105fe5",
   "metadata": {},
   "outputs": [],
   "source": [
    "Q-3. Write an SQL query to fetch nth max salaries from a table."
   ]
  },
  {
   "cell_type": "markdown",
   "id": "31d3474f",
   "metadata": {},
   "source": [
    "ANS: Select e_salary from employee order by e_salary limit n-1,1;"
   ]
  }
 ],
 "metadata": {
  "kernelspec": {
   "display_name": "Python 3 (ipykernel)",
   "language": "python",
   "name": "python3"
  },
  "language_info": {
   "codemirror_mode": {
    "name": "ipython",
    "version": 3
   },
   "file_extension": ".py",
   "mimetype": "text/x-python",
   "name": "python",
   "nbconvert_exporter": "python",
   "pygments_lexer": "ipython3",
   "version": "3.9.7"
  }
 },
 "nbformat": 4,
 "nbformat_minor": 5
}
