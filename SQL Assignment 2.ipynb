{
 "cells": [
  {
   "cell_type": "code",
   "execution_count": null,
   "id": "52d14a7c",
   "metadata": {},
   "outputs": [],
   "source": [
    "Q-1. Write an SQL query to print the first three characters of FIRST_NAME from Worker\n",
    "table."
   ]
  },
  {
   "cell_type": "markdown",
   "id": "449408b8",
   "metadata": {},
   "source": [
    "ANS: SELECT SUBSTRING(f_name,1,3) \n",
    "     FROM worker;"
   ]
  },
  {
   "cell_type": "code",
   "execution_count": null,
   "id": "5bbd3a28",
   "metadata": {},
   "outputs": [],
   "source": [
    "Q-2. Write an SQL query to find the position of the alphabet (‘a’) in the first name\n",
    "column ‘Amitabh’ from Worker table."
   ]
  },
  {
   "cell_type": "markdown",
   "id": "cab6182a",
   "metadata": {},
   "source": [
    "ANS: Select INSTR(FIRST_NAME, BINARY'a') from Worker where FIRST_NAME = 'Amitabh';"
   ]
  },
  {
   "cell_type": "code",
   "execution_count": null,
   "id": "3d6f73ea",
   "metadata": {},
   "outputs": [],
   "source": [
    "Q-3. Write an SQL query to print the name of employees having the highest salary in each\n",
    "department."
   ]
  },
  {
   "cell_type": "markdown",
   "id": "83388897",
   "metadata": {},
   "source": [
    "ANS: select * from employee where e_salary = (select max(e_salary) from employee);"
   ]
  }
 ],
 "metadata": {
  "kernelspec": {
   "display_name": "Python 3 (ipykernel)",
   "language": "python",
   "name": "python3"
  },
  "language_info": {
   "codemirror_mode": {
    "name": "ipython",
    "version": 3
   },
   "file_extension": ".py",
   "mimetype": "text/x-python",
   "name": "python",
   "nbconvert_exporter": "python",
   "pygments_lexer": "ipython3",
   "version": "3.9.7"
  }
 },
 "nbformat": 4,
 "nbformat_minor": 5
}
